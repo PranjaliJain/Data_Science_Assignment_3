{
 "cells": [
  {
   "cell_type": "code",
   "execution_count": 392,
   "metadata": {},
   "outputs": [],
   "source": [
    "import pandas as pd\n",
    "import numpy as np\n",
    "from csv import reader\n",
    "from matplotlib import pyplot as plt\n",
    "from scipy.optimize import curve_fit"
   ]
  },
  {
   "cell_type": "markdown",
   "metadata": {},
   "source": [
    "### Low rank Approximation "
   ]
  },
  {
   "cell_type": "code",
   "execution_count": 393,
   "metadata": {},
   "outputs": [],
   "source": [
    "train_d = pd.read_csv(\"MovieLens/ml80.train\", delimiter='\\t',header=None)\n",
    "train_d.columns = ['i','j','val']\n",
    "test_d = pd.read_csv(\"MovieLens/ml20.test\", delimiter='\\t',header=None)\n",
    "test_d.columns = ['i','j','val']"
   ]
  },
  {
   "cell_type": "code",
   "execution_count": 394,
   "metadata": {},
   "outputs": [],
   "source": [
    "x_size = train_d['i'].max()\n",
    "y_size = train_d['j'].max()"
   ]
  },
  {
   "cell_type": "code",
   "execution_count": 395,
   "metadata": {},
   "outputs": [],
   "source": [
    "x_co_train, y_co_train, val_train = train_d['i'], train_d['j'],train_d['val']\n",
    "x_co_test, y_co_test, val_test = test_d['i'], test_d['j'],test_d['val']"
   ]
  },
  {
   "cell_type": "code",
   "execution_count": 396,
   "metadata": {},
   "outputs": [],
   "source": [
    "A_train=np.zeros((x_size,y_size))"
   ]
  },
  {
   "cell_type": "code",
   "execution_count": 397,
   "metadata": {},
   "outputs": [
    {
     "data": {
      "text/plain": [
       "(943, 1682)"
      ]
     },
     "execution_count": 397,
     "metadata": {},
     "output_type": "execute_result"
    }
   ],
   "source": [
    "A_train.shape"
   ]
  },
  {
   "cell_type": "code",
   "execution_count": 398,
   "metadata": {},
   "outputs": [],
   "source": [
    "for i in range(len(val_train)):\n",
    "    A_train[x_co_train[i]-1][y_co_train[i]-1]=val_train[i]\n",
    "    "
   ]
  },
  {
   "cell_type": "code",
   "execution_count": 399,
   "metadata": {},
   "outputs": [],
   "source": [
    "U, sigma, VT = np.linalg.svd(A_train, full_matrices=True)"
   ]
  },
  {
   "cell_type": "code",
   "execution_count": 400,
   "metadata": {},
   "outputs": [],
   "source": [
    "def error(x_co_test,y_co,test,val_test,Pred):\n",
    "    err = 0\n",
    "    for i in range(len(val_test)):\n",
    "        err = err +  (val_test[i] - Pred[x_co_test[i]-1][y_co_test[i]-1])**2\n",
    "    return err"
   ]
  },
  {
   "cell_type": "code",
   "execution_count": 401,
   "metadata": {},
   "outputs": [],
   "source": [
    "def find_k_rank_approx(U,sigma,VT, k):\n",
    "    U=U[:,:k]\n",
    "    VT=VT[:k,:]\n",
    "    sigma = sigma[:k]\n",
    "    sigma = np.diag(sigma)\n",
    "    Pred = np.dot(np.dot(U,sigma),VT)\n",
    "    return Pred"
   ]
  },
  {
   "cell_type": "code",
   "execution_count": 402,
   "metadata": {},
   "outputs": [],
   "source": [
    "k_lst = [i for i in range(1,101)]"
   ]
  },
  {
   "cell_type": "code",
   "execution_count": 403,
   "metadata": {},
   "outputs": [],
   "source": [
    "err_lst=[]\n",
    "for i in k_lst:\n",
    "    Pred = find_k_rank_approx(U,sigma,VT,i)\n",
    "    err = error(x_co_test,y_co,test,val_test,Pred)\n",
    "    err_lst.append(err)\n",
    "    "
   ]
  },
  {
   "cell_type": "code",
   "execution_count": 404,
   "metadata": {},
   "outputs": [],
   "source": [
    "min_err = min(err_lst)\n",
    "min_err_idx = err_lst.index(min_err)"
   ]
  },
  {
   "cell_type": "code",
   "execution_count": 406,
   "metadata": {
    "scrolled": false
   },
   "outputs": [
    {
     "name": "stdout",
     "output_type": "stream",
     "text": [
      "The value of k for minimum error is :  13\n"
     ]
    }
   ],
   "source": [
    "min_err_k = k_lst[min_err_idx]\n",
    "print(\"The value of k for minimum error is : \", min_err_k)"
   ]
  },
  {
   "cell_type": "code",
   "execution_count": 408,
   "metadata": {},
   "outputs": [
    {
     "data": {
      "image/png": "[encoded data removed]",
      "text/plain": [
       "<Figure size 432x288 with 1 Axes>"
      ]
     },
     "metadata": {
      "needs_background": "light"
     },
     "output_type": "display_data"
    }
   ],
   "source": [
    "plt.plot(k_lst,err_lst)\n",
    "plt.title(\"k vs Error plot\\n\")\n",
    "plt.xlabel(\"k\")\n",
    "plt.ylabel(\"error\")\n",
    "plt.show()"
   ]
  },
  {
   "cell_type": "code",
   "execution_count": null,
   "metadata": {},
   "outputs": [],
   "source": []
  },
  {
   "cell_type": "markdown",
   "metadata": {},
   "source": [
    "### Fitting regreesion curve"
   ]
  },
  {
   "cell_type": "code",
   "execution_count": 409,
   "metadata": {},
   "outputs": [],
   "source": [
    "mu=np.zeros((x_size))\n",
    "count_mu=np.zeros((x_size))\n",
    "eta=np.zeros((y_size))\n",
    "count_eta = np.zeros((y_size))"
   ]
  },
  {
   "cell_type": "code",
   "execution_count": 410,
   "metadata": {},
   "outputs": [],
   "source": [
    "for i in range(len(x_co_train)):\n",
    "    mu[x_co_train[i]-1]+=val_train[i]\n",
    "    count_mu[x_co_train[i]-1]+=1"
   ]
  },
  {
   "cell_type": "code",
   "execution_count": 411,
   "metadata": {},
   "outputs": [],
   "source": [
    "for j in range(len(y_co_train)):\n",
    "    eta[y_co_train[j]-1]+=val_train[j]\n",
    "    count_eta[y_co_train[j]-1]+=1"
   ]
  },
  {
   "cell_type": "code",
   "execution_count": 412,
   "metadata": {},
   "outputs": [],
   "source": [
    "for i in range(len(mu)):\n",
    "    if(count_mu[i]!=0.0):\n",
    "        mu[i]=mu[i]/count_mu[i]"
   ]
  },
  {
   "cell_type": "code",
   "execution_count": 413,
   "metadata": {},
   "outputs": [],
   "source": [
    "for j in range(len(eta)):\n",
    "    if(count_eta[j]!=0.0):\n",
    "        eta[j]=eta[j]/count_eta[j]"
   ]
  },
  {
   "cell_type": "code",
   "execution_count": 414,
   "metadata": {},
   "outputs": [],
   "source": [
    "mu_x_co_train=np.zeros((len(x_co_train)))\n",
    "eta_y_co_train=np.zeros((len(y_co_train)))\n",
    "for i in range(len(x_co_train)):\n",
    "    mu_x_co_train[i] = mu[x_co_train[i]-1]\n",
    "    eta_y_co_train[i] = eta[y_co_train[i]-1]\n",
    "    "
   ]
  },
  {
   "cell_type": "code",
   "execution_count": 415,
   "metadata": {},
   "outputs": [],
   "source": [
    "df =pd.DataFrame({'i':mu_x_co_train, 'j':eta_y_co_train})"
   ]
  },
  {
   "cell_type": "code",
   "execution_count": 416,
   "metadata": {},
   "outputs": [],
   "source": [
    "x1_x2 = df.values.tolist()"
   ]
  },
  {
   "cell_type": "code",
   "execution_count": 417,
   "metadata": {},
   "outputs": [],
   "source": [
    "def func(x,a,b):\n",
    "    return a*x[0] + b*x[1]"
   ]
  },
  {
   "cell_type": "code",
   "execution_count": 418,
   "metadata": {},
   "outputs": [],
   "source": [
    "popt,pcov = curve_fit(func,np.array(x1_x2).T,val_train)"
   ]
  },
  {
   "cell_type": "code",
   "execution_count": 419,
   "metadata": {},
   "outputs": [],
   "source": [
    "a,b =popt[0],popt[1]"
   ]
  },
  {
   "cell_type": "code",
   "execution_count": 420,
   "metadata": {},
   "outputs": [],
   "source": [
    "pred_val_test=[]\n",
    "for i in range(len(x_co_test)):\n",
    "    pred = a*mu[x_co_test[i]-1] + b*eta[y_co_test[i]-1]\n",
    "    pred_val_test.append(pred)"
   ]
  },
  {
   "cell_type": "code",
   "execution_count": 421,
   "metadata": {},
   "outputs": [],
   "source": [
    "err_fitting = 0\n",
    "for i in range(len(val_test)):\n",
    "    err_fitting += (val_test[i] - pred_val_test[i])**2"
   ]
  },
  {
   "cell_type": "code",
   "execution_count": 422,
   "metadata": {},
   "outputs": [
    {
     "name": "stdout",
     "output_type": "stream",
     "text": [
      "For Linear fit the error value is :  19052.076144719704\n",
      "For low rank approximation case the minimum error is :  144001.76778220388\n"
     ]
    }
   ],
   "source": [
    "print(\"For Linear fit the error value is : \",err_fitting)\n",
    "print(\"For low rank approximation case the minimum error is : \", min_err)"
   ]
  },
  {
   "cell_type": "code",
   "execution_count": null,
   "metadata": {},
   "outputs": [],
   "source": []
  }
 ],
 "metadata": {
  "kernelspec": {
   "display_name": "Python 3",
   "language": "python",
   "name": "python3"
  },
  "language_info": {
   "codemirror_mode": {
    "name": "ipython",
    "version": 3
   },
   "file_extension": ".py",
   "mimetype": "text/x-python",
   "name": "python",
   "nbconvert_exporter": "python",
   "pygments_lexer": "ipython3",
   "version": "3.6.7"
  }
 },
 "nbformat": 4,
 "nbformat_minor": 2
}
